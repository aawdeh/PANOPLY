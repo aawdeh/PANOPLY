{
 "cells": [
  {
   "cell_type": "markdown",
   "metadata": {},
   "source": [
    "# PANOPLY Startup Notebook\n",
    "\n",
    "This notebook provides an easy-to-use interface to configure a Terra Workspace to run PANOPLY on proteogenomics data. <br>\n",
    "**Click the `OPEN` button above** and follow these step-by-step instructions to get started. \n",
    "\n",
    "-----\n",
    "### Using this Notebook\n",
    "<div class=\"alert alert-block alert-info\">\n",
    "\n",
    "1. Start the **Notebook Runtime** with the `gcr.io/broadcptac/panda:1_1` docker.  \n",
    "> - Click on the Notebook settings (cog-wheel) at the top right. Use the `ENVIRONMENT` pull down and choose `Custom Environment`. Enter `gcr.io/broadcptac/panda:1_1` into the `CONTAINER IMAGE` text box. Customize `COMPUTE POWER` as needed, and click `CREATE` or `UPDATE`.\n",
    "2. You can run this notebook multiple times.  \n",
    "> - The first execution should run all code blocks (except the optional **Color Schemes** section). \n",
    "> - Subsequent executions will retain original settings, which can be modified as needed (by running appropriate code blocks), including creating new sample subsets.\n",
    " \n",
    "3. To run a code block, click on it, and either choose `Cell -> Run Cells` or hit `Shift-ENTER`. Running the entire notebook is not recommended since many code blocks require user input. Carefully read each section, and then run the associated code block.\n",
    "</div>\n",
    "\n",
    "Running this notebook results in:\n",
    "* Creating/updating a `config.yaml` configuration file that captures your choices made by running this notebook. If this configuration file is already present (i.e., notebook was already run previsouly), those choices will be reused, and can be optionally modified.\n",
    "* Uploading input data to the Terra Workspace bucket.\n",
    "* Creating data subsets, if specified. A default subset `all` including all samples is always created. \n",
    "* Configuring parameters and metadata tables in the Terra Workspace to enable single-click execution of PANOPLY workflows.\n",
    "\n",
    "-----\n",
    "\n",
    "### Prepare Data\n",
    "You will need the following data tables to run PANOPLY:\n",
    "\n",
    "##### Required:\n",
    "* At least **one proteomics dataset** (global proteome, phosphoproteome, acetylome, ubiquitylome) -- after database searching and quantification;\n",
    "* Genomics data -- CNA and RNA data (both are required), normalized and filtered as needed;\n",
    "* `Annotation` table with at least `Sample.ID` and `Type` columns, in addition to an arbitrary number of annotations for the samples.\n",
    "\n",
    "##### Optional:\n",
    "* A `groups` file that lists a subset of annotations (one per line) to be used for association and enrichment analysis;\n",
    "* A default `parameter` file is used, unless one is specified in the input (in `yaml` format);\n",
    "* Pathway databases for PTM-SEA (PTM-SigDB v1.9.0) and GSEA (v6.2 hallmark pathways) are automatically included, and can be over-ridden by providing appropriate `gmt` input files.\n",
    "\n",
    "##### Formats:\n",
    "`Annotation` and `groups` tables must be in `csv` format. The `Annotation` table must include a `Sample.ID` column. `Sample.ID`s must be unique and cannot have duplicates. If a `groups` file is not specified in the input, one can be interactively created using the annotations present in the `annotation` table.\n",
    "\n",
    "All proteomics and genomics data tables must be in [GCT v1.3 format](https://clue.io/connectopedia/gct_format), with sample ids (column names) conforming to the `Sample.ID`s used in the `annotation` table. Ideally, the sample annotations included in the `annotation` table would be present in the GCT v1.3 data files as column annotations. See [here](https://github.com/broadinstitute/PANOPLY/wiki) for more details.\n",
    "\n",
    "All genomics data tables must be appropriately normalized/filtered prior to use in PANOPLY. Proteomics data can be optionally normalized/filtered in PANOPLY.\n",
    "\n",
    "**Continue** by reading the descriptions and requirements, and running appropriate code blocks. \n",
    "\n",
    "### Initialize Notebook\n",
    "Start by running the initialization code block below."
   ]
  },
  {
   "cell_type": "code",
   "execution_count": 25,
   "metadata": {},
   "outputs": [
    {
     "name": "stdout",
     "output_type": "stream",
     "text": [
      "\n",
      "============================\n",
      ".. INFO. Previous config.yaml exists.\n",
      ".. INFO. Input file map, groups and colors restored.\n",
      ".. INFO. Modify using appropriate Sections.\n",
      "============================\n",
      "============================\n",
      ".. DONE.\n",
      "============================\n"
     ]
    }
   ],
   "source": [
    "source( \"/panda/build-config.r\" )\n",
    "panda_initialize(\"pipelines\")"
   ]
  },
  {
   "cell_type": "markdown",
   "metadata": {},
   "source": [
    "# Inputs\n",
    "Create a **ZIP** compressed file containing *at least one proteome data type and annotation*, along with any additional files:\n",
    "\n",
    "    - GCT  (proteome, phosphoproteome, acetylome, ubiquitylome, RNA, CNA)\n",
    "    - CSV  (annotation, groups)\n",
    "    - YAML (parameters -- defaults to master-parameters.yaml on PANOPLY_PRODUCTION workspace)\n",
    "    - GMT  (ptmseaDB, gseaDB -- pathway databases for PTMSEA/GSEA, defaults to versions on PANOPLY_PRODUCTION)\n",
    "\n",
    "### Upload ZIP file to workspace bucket\n",
    "Open your workspace in a new tab or window. Upload your ZIP file into your workspace by navigating to `DATA` tab -> `Files` tab, and then using the `+` button on the bottom right of your page. Remember this file name and enter it when prompted for it below. ( **NOTE:**  All GCT files must conform to version `#1.3` )\n",
    "\n",
    "### Map files to data types\n",
    "Map each `gct`, `csv` or `yaml` file included in the zip file to a category. Run the following code cell to list available data types. For each file, enter a number that corresponds with the correct data type. "
   ]
  },
  {
   "cell_type": "code",
   "execution_count": 2,
   "metadata": {},
   "outputs": [
    {
     "name": "stdout",
     "output_type": "stream",
     "text": [
      " 1: proteome\n",
      " 2: phosphoproteome\n",
      " 3: acetylome\n",
      " 4: ubiquitylome\n",
      " 5: rna\n",
      " 6: cna\n",
      " 7: annotation\n",
      " 8: groups\n",
      " 9: parameters\n",
      "10: ptmseaDB\n",
      "11: gseaDB\n"
     ]
    }
   ],
   "source": [
    "panda_datatypes()"
   ]
  },
  {
   "cell_type": "markdown",
   "metadata": {},
   "source": [
    "If a file does not fit any of the categories above, enter ` 0 `.\n",
    "<br>**NOTE:** Each category can have only one file assigned. Assigning multiple files to a category will retain only the last assignment.\n",
    "\n",
    "Run the code cell below to input the ZIP file and map data files to categories. Once the data files are mapped, they will be validated to check if the majority of samples in the `annotation` table are present in each `GCT` and `csv` file."
   ]
  },
  {
   "cell_type": "code",
   "execution_count": 3,
   "metadata": {},
   "outputs": [
    {
     "name": "stdout",
     "output_type": "stream",
     "text": [
      "\n",
      "$$ Enter uploaded zip file name (test.zip): panoply-input.zip\n",
      ".. brca-retrospective-v5.0-cna-data.gct: 6\n",
      ".. brca-retrospective-v5.0-phosphoproteome-ratio-norm-NArm.gct: 2\n",
      ".. brca-retrospective-v5.0-proteome-ratio-norm-NArm.gct: 1\n",
      ".. brca-retrospective-v5.0-rnaseq-data.gct: 5\n",
      ".. brca-retrospective-v5.0-groups.csv: 8\n",
      ".. brca-retrospective-v5.0-sample-annotation.csv: 7\n",
      ".. brca-retrospective-v5.0-parameters.yml: 9\n",
      ".. c2.all.v6.2.symbols.gmt: 11\n",
      "Does proteomics data need normalization? (y/n): n\n",
      "\n",
      "============================\n",
      ".. INFO. Sample annotation file successfully validated.\n",
      ".. INFO. Validating sample IDs in other files ..\n",
      ".. INFO. cna successfully validated.\n",
      ".. INFO. phosphoproteome successfully validated.\n",
      ".. INFO. proteome successfully validated.\n",
      ".. INFO. rna successfully validated.\n",
      ".. INFO. groups successfully validated.\n",
      "============================\n",
      ".. DONE.\n",
      "============================\n"
     ]
    }
   ],
   "source": [
    "panda_input()"
   ]
  },
  {
   "cell_type": "markdown",
   "metadata": {},
   "source": [
    "# Groups\n",
    "**Groups** represent *categorical* annotations that will be used in association analysis and for determining enrichments of specific clusters or other sample subgroups in the pipeline.\n",
    "\n",
    "If a `groups` file is not provided -- or you would like to override the `groups` file -- code in the next cell will enable interactive creation of a `groups` file, by displaying an **indexed** list of available annotations. At the prompt, you can enter either an annotation index, such as `5`, or a range of indices, such as `13:16`, separated by commas `5, 13:16`. The specifed annotation entries `5, 13, 14, 15, 16`  will be added to your list of groups. \n",
    "\n",
    "**NOTE:** Annotations with more than `max.categories` levels will be excluded."
   ]
  },
  {
   "cell_type": "code",
   "execution_count": 4,
   "metadata": {},
   "outputs": [
    {
     "name": "stdout",
     "output_type": "stream",
     "text": [
      "Groups file already present. Keep it? (y/n): y\n",
      ".. Selected groups:\n",
      "\n",
      " 1: PAM50\n",
      " 2: ER.Status\n",
      " 3: PR.Status\n",
      " 4: HER2.Status\n",
      " 5: TP53.mutation\n",
      " 6: PIK3CA.mutation\n",
      " 7: GATA3.mutation\n",
      "============================\n",
      ".. DONE.\n",
      "============================\n"
     ]
    }
   ],
   "source": [
    "max.categories <- 10\n",
    "panda_groups()"
   ]
  },
  {
   "cell_type": "markdown",
   "metadata": {},
   "source": [
    "## Color Schemes (Optional)\n",
    "### Automatic color defaults\n",
    "<details>\n",
    "    <summary>To see color defaults, click here and run code below (click 'o' to show/hide output).</summary>\n",
    "    \n",
    "Based on the number of unique categories for each group, default colors have been assigned to each unique category. Binary categories are usually assigned *paired* colors. Missing values or `NA`s will be given a grey color by default. These colors are used in heatmap annotations and plots in PANOPLY.\n",
    "\n",
    "Run the code cell below to see default color assignments. Colors for any category can be edited using subsequent sections.\n",
    "</details>"
   ]
  },
  {
   "cell_type": "code",
   "execution_count": 22,
   "metadata": {
    "collapsed": true
   },
   "outputs": [
    {
     "data": {
      "image/png": "[encoded data removed]",
      "text/plain": [
       "Plot with title “HER2.Status”"
      ]
     },
     "metadata": {
      "image/png": {
       "height": 420,
       "width": 420
      },
      "text/plain": {
       "height": 420,
       "width": 420
      }
     },
     "output_type": "display_data"
    },
    {
     "data": {
      "image/png": "[encoded data removed]",
      "text/plain": [
       "Plot with title “GATA3.mutation”"
      ]
     },
     "metadata": {
      "image/png": {
       "height": 420,
       "width": 420
      },
      "text/plain": {
       "height": 420,
       "width": 420
      }
     },
     "output_type": "display_data"
    }
   ],
   "source": [
    "panda_colors_defaults()"
   ]
  },
  {
   "cell_type": "markdown",
   "metadata": {},
   "source": [
    "### Color editing index\n",
    "<details>\n",
    "    <summary>To obtain a color editing index, click to expand and run code below (click 'o' to show/hide output).</summary>\n",
    "    \n",
    "Execute the cell below if you intend to edit the default color scheme from above. This will display an **indexed** list of groups, with an **indexed** sublist of their unique categories. You will need to reference these indexes while editing the default color scheme in the next section.\n",
    "</details>\n"
   ]
  },
  {
   "cell_type": "code",
   "execution_count": 21,
   "metadata": {
    "collapsed": true
   },
   "outputs": [
    {
     "name": "stdout",
     "output_type": "stream",
     "text": [
      "============================\n",
      " 1] PAM50 =\n",
      "\t 1: Her2\n",
      "\t 2: Basal\n",
      "\t 3: LumB\n",
      "\t 4: LumA\n",
      "============================\n",
      " 2] ER.Status =\n",
      "\t 1: Negative\n",
      "\t 2: Positive\n",
      "============================\n",
      " 3] PR.Status =\n",
      "\t 1: Negative\n",
      "\t 2: Positive\n",
      "============================\n",
      " 4] HER2.Status =\n",
      "\t 1: Positive\n",
      "\t 2: Negative\n",
      "\t 3: Equivocal\n",
      "============================\n",
      " 5] TP53.mutation =\n",
      "\t 1: 1\n",
      "\t 2: 0\n",
      "============================\n",
      " 6] PIK3CA.mutation =\n",
      "\t 1: 0\n",
      "\t 2: 1\n",
      "============================\n",
      " 7] GATA3.mutation =\n",
      "\t 1: 0\n",
      "\t 2: 1\n"
     ]
    }
   ],
   "source": [
    "panda_colors_edit_index ( groups.colors )"
   ]
  },
  {
   "cell_type": "markdown",
   "metadata": {},
   "source": [
    "### Edit colors\n",
    "<details>\n",
    "    <summary>To edit colors, click here and run code below (click 'o' to show/hide output).</summary>\n",
    "    \n",
    "If you wish to change color assignments for one or more categories, execute the following code cell. You will be asked to enter the indices for the group and its category for which you wish to change the default color. Find these indices in the reference table above. You will then be prompted to add a color in hexadecimal #RRGGBB format (e.g., `#e4e4e4`). Deviation from this format will result in an error. \n",
    "</details>\n"
   ]
  },
  {
   "cell_type": "code",
   "execution_count": 19,
   "metadata": {
    "collapsed": true
   },
   "outputs": [
    {
     "name": "stdout",
     "output_type": "stream",
     "text": [
      "$$ Enter group index for color modification: \n",
      "$$ Enter value index: \n",
      "\n",
      "$$ Enter color hex: \n"
     ]
    },
    {
     "ename": "ERROR",
     "evalue": "Error in change_default_colors(groups.cols, all.groups, groups.colors): \n============================\n.. ERROR. Invalid color. Try Again..\n",
     "output_type": "error",
     "traceback": [
      "Error in change_default_colors(groups.cols, all.groups, groups.colors): \n============================\n.. ERROR. Invalid color. Try Again..\nTraceback:\n",
      "1. change_default_colors(groups.cols, all.groups, groups.colors)",
      "2. stop(glue(\"\\n\\n{sep}\\n.. ERROR. Invalid color. Try Again..\"))"
     ]
    }
   ],
   "source": [
    "groups.colors <- change_default_colors( groups.cols, all.groups, groups.colors)"
   ]
  },
  {
   "cell_type": "markdown",
   "metadata": {},
   "source": [
    "# Sample Sets\n",
    "A set of **all** samples will get created by default after running the code cell below. You will be given a choice to add additional *sub*-sets. For example:\n",
    "\n",
    "    $$ Enter set name: luminaltumors\n",
    "$$ Filter samples based on this column. Enter name: PAM50\n",
    "    .. Values: Basal, Her2, LumA, LumB\n",
    "    $$ Enter one (LumA) or more (LumA;LumB) values from above : LumA;LumB\n",
    "\n",
    "\n",
    "This will create a subset called `tumors`. The subset will contain all samples with `Type == \"Tumor\"` in the sample annotation file. Entering `Tumor;Normal` will create a subset with all samples that have either `Type == \"Tumor\"` or `Type == \"Normal\"` in the sample annotation file. \n",
    "\n",
    "Additionally, the following code will check for any overlap between the sets you wish to create and all existing sets in your workspace. If you entered a set name which already exists in your workspace, a random suffix will be appended to your set name before it gets created and added."
   ]
  },
  {
   "cell_type": "code",
   "execution_count": 26,
   "metadata": {},
   "outputs": [
    {
     "name": "stdout",
     "output_type": "stream",
     "text": [
      "\n",
      "$$ Add additional sample subsets? (y/n): y\n",
      "============================\n",
      "$$ Enter set name: basal\n",
      "$$ Filter samples based on this column. Enter name: PAM50\n",
      ".. Values: Her2, Basal, LumB, LumA\n",
      "$$ Enter one or more values from above. (Tumor or LumA;LumB): Basal\n",
      "\n",
      "$$ Continue adding more sets? (y/n): n\n",
      "\n",
      "============================\n",
      ".. WARNING. Sample sets -- basal -- already exist.\n",
      "Overwrite sample sets? (y/n): y\n",
      "============================\n",
      ".. Sample sets to be added to Terra Workspace: \n",
      ".. all, basal\n",
      "============================\n",
      ".. DONE.\n",
      "============================\n"
     ]
    }
   ],
   "source": [
    "panda_sample_subsets()"
   ]
  },
  {
   "cell_type": "markdown",
   "metadata": {},
   "source": [
    "# Finalize Options\n",
    "Running the following cell creates a `config.yaml` file that encapsulates all your choices upto this point, and stores it in your current Terra Workspace's Google bucket."
   ]
  },
  {
   "cell_type": "code",
   "execution_count": 7,
   "metadata": {},
   "outputs": [
    {
     "name": "stdout",
     "output_type": "stream",
     "text": [
      "============================\n",
      ".. DONE.\n",
      "============================\n"
     ]
    }
   ],
   "source": [
    "panda_finalize()"
   ]
  },
  {
   "cell_type": "markdown",
   "metadata": {},
   "source": [
    "# Run PANDA\n",
    "PANDA runs in two independent parts. The first part splits input datasets into individual samples and uploads samples to the workspace bucket, and the second part creates sample sets. PANDA runs are time consuming and will print out a `DONE` message when complete. By re-running this notebook, additional sample sets can be created."
   ]
  },
  {
   "cell_type": "code",
   "execution_count": 27,
   "metadata": {},
   "outputs": [
    {
     "name": "stdout",
     "output_type": "stream",
     "text": [
      "============================\n",
      ".. Please wait ..\n",
      "============================\n",
      "============================\n",
      ".. DONE.\n",
      "============================\n"
     ]
    }
   ],
   "source": [
    "run_panda()"
   ]
  },
  {
   "cell_type": "code",
   "execution_count": null,
   "metadata": {},
   "outputs": [],
   "source": []
  }
 ],
 "metadata": {
  "kernelspec": {
   "display_name": "R",
   "language": "R",
   "name": "ir"
  },
  "language_info": {
   "codemirror_mode": "r",
   "file_extension": ".r",
   "mimetype": "text/x-r-source",
   "name": "R",
   "pygments_lexer": "r",
   "version": "3.6.3"
  },
  "toc": {
   "base_numbering": 1,
   "nav_menu": {
    "height": "265px",
    "width": "269px"
   },
   "number_sections": false,
   "sideBar": true,
   "skip_h1_title": false,
   "title_cell": "Table of Contents",
   "title_sidebar": "Contents",
   "toc_cell": false,
   "toc_position": {},
   "toc_section_display": true,
   "toc_window_display": true
  }
 },
 "nbformat": 4,
 "nbformat_minor": 2
}
