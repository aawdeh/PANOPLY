{
 "cells": [
  {
   "cell_type": "markdown",
   "metadata": {},
   "source": [
    "<title/>Template notebook for site-centric PTM Signature Enrichment Analysis (PTM-SEA)"
   ]
  },
  {
   "cell_type": "markdown",
   "metadata": {},
   "source": [
    "# Template notebook for running site-centric PTM signature enrichment analysis (PTM-SEA)"
   ]
  },
  {
   "cell_type": "markdown",
   "metadata": {},
   "source": [
    "Before running any other cell, type in a unique project name. This will determine the folder in which your inputs and outputs will be stored. If this name doesn't exist in this workspace, a new folder will be created. If otherwise, all files will be overwritten."
   ]
  },
  {
   "cell_type": "code",
   "execution_count": null,
   "metadata": {},
   "outputs": [],
   "source": [
    "### EDIT THIS CELL (1/3)\n",
    "PROJECT_NAME <- \"test_project_ssc\""
   ]
  },
  {
   "cell_type": "code",
   "execution_count": null,
   "metadata": {
    "code_folding": []
   },
   "outputs": [],
   "source": [
    "source(\"~/src/terra-functions.R\")\n",
    "init_project_dir()"
   ]
  },
  {
   "cell_type": "markdown",
   "metadata": {},
   "source": [
    "## Configure environment and prepare files"
   ]
  },
  {
   "cell_type": "markdown",
   "metadata": {},
   "source": [
    "### Configure cloud environment\n",
    "\n",
    "Click on \"Cloud Environment\" in the top-right corner, for **Application configuration** select \"Custom Environment\" and for **Container image** type in `munchic/ptm-sea:latest`. This is a Terra-based Docker environment that has all the libraries and scripts for PTM-SEA."
   ]
  },
  {
   "cell_type": "markdown",
   "metadata": {},
   "source": [
    "### Upload files"
   ]
  },
  {
   "cell_type": "markdown",
   "metadata": {},
   "source": [
    "1. Upload the input file to bucket\n",
    "\n",
    "Open your workspace in a new tab or window. Upload files into your workspace by navigating to DATA tab -> Files tab, and then using the + button on the bottom right of your page. A single file is required: single-site PTM proteome [GCT v1.3+]."
   ]
  },
  {
   "cell_type": "markdown",
   "metadata": {},
   "source": [
    "2. Locate the uploaded file"
   ]
  },
  {
   "cell_type": "code",
   "execution_count": null,
   "metadata": {},
   "outputs": [],
   "source": [
    "list_files_in_bucket(only_gct = TRUE)"
   ]
  },
  {
   "cell_type": "markdown",
   "metadata": {},
   "source": [
    "3. Select the file name to copy over to environment"
   ]
  },
  {
   "cell_type": "code",
   "execution_count": null,
   "metadata": {},
   "outputs": [],
   "source": [
    "### EDIT THIS CELL (2/3)\n",
    "input_file <- \"test_ccle_pY.gct\" "
   ]
  },
  {
   "cell_type": "code",
   "execution_count": null,
   "metadata": {},
   "outputs": [],
   "source": [
    "copy_from_bucket_to_project_dir(input_file) "
   ]
  },
  {
   "cell_type": "markdown",
   "metadata": {},
   "source": [
    "## Single-site centric PTM-SEA"
   ]
  },
  {
   "cell_type": "markdown",
   "metadata": {},
   "source": [
    "### Set parameters"
   ]
  },
  {
   "cell_type": "markdown",
   "metadata": {},
   "source": [
    "1. Basic parameters for pre-processing PTM GCT:\n",
    "- `id_type_out` - type of site annotation in the provided GCT file\n",
    "- `seqwin_col` - name of column containing the site annotation\n",
    "- `organism` - organism from which the dataset is derived\n",
    "- `mode` - determines how multiple sites per gene will be combined"
   ]
  },
  {
   "cell_type": "code",
   "execution_count": null,
   "metadata": {},
   "outputs": [],
   "source": [
    "### EDIT THIS CELL (3/3)\n",
    "id_type_out <- \"uniprot\"       # options: \"uniprot\", \"refseq\", \"seqwin\", \"psp\"\n",
    "seqwin_col  <- \"VMsiteFlanks\"  # only relevant if the annotation is \"seqwin\"\n",
    "organism    <- \"human\"         # options: \"human\", \"mouse\", \"rat\"\n",
    "mode        <- \"median\"        # options: sd - most variable (standard deviation) across sample columns; SGT - subgroup top: first subgroup in protein group (Spectrum Mill); abs.max - for log-transformed, signed p-values."
   ]
  },
  {
   "cell_type": "markdown",
   "metadata": {},
   "source": [
    "2. Advanced parameters for pre-processing PTM GCT"
   ]
  },
  {
   "cell_type": "code",
   "execution_count": null,
   "metadata": {},
   "outputs": [],
   "source": [
    "id_type        <- \"sm\"       # Notation of site-ids: 'sm' - Spectrum Mill; 'wg' - Web Gestalt; 'ph' - Philosopher\n",
    "acc_type_in    <- \"uniprot\"  # Type of accession number in 'rid' object in GCT file (uniprot, refseq, symbol).\n",
    "residue        <- '\"S|T|Y\"'  # Modified residues, e.g. \"S|T|Y\" or \"K\".\n",
    "ptm            <- \"p\"        # Type of modification, e.g \"p\" or \"ac\".\n",
    "localized      <- TRUE       # CAUTION: it is NOT RECOMMENDED to set this flag to FALSE. If TRUE only fully localized sites will be considered."
   ]
  },
  {
   "cell_type": "markdown",
   "metadata": {},
   "source": [
    "3. Advanced parameters for running PTM-SEA"
   ]
  },
  {
   "cell_type": "code",
   "execution_count": null,
   "metadata": {},
   "outputs": [],
   "source": [
    "output_prefix     <- \"ptm-sea-results\"  # Label for output files from PTM-SEA\n",
    "sample_norm_type  <- \"rank\"             # rank, log, log.rank, none\n",
    "weight            <- 0.75               # -w ${default=NA weight}\n",
    "correl_type       <- \"z.score\"          # \"rank\", \"z.score\", \"symm.rank\"\n",
    "statistic         <- \"area.under.RES\"   # \"area.under.RES\", \"Kolmogorov-Smirnov\"\n",
    "output_score_type <- \"NES\"              # 'Score type: \"ES\" - enrichment score,  \"NES\" - normalized ES'\n",
    "nperm             <- 1000               # Number of permutations\n",
    "min_overlap       <- 5                  # 'Minimal overlap between signature and data set.'\n",
    "extended_output   <- TRUE               # 'If TRUE additional stats on signature coverage etc. will be included as row annotations in the GCT results files.'\n",
    "export_signal_gct <- TRUE               # For each signature export expression GCT files.\n",
    "global_fdr        <- FALSE              # If TRUE global FDR across all data columns is calculated."
   ]
  },
  {
   "cell_type": "markdown",
   "metadata": {},
   "source": [
    "### Run PTM-SEA"
   ]
  },
  {
   "cell_type": "code",
   "execution_count": null,
   "metadata": {},
   "outputs": [],
   "source": [
    "input_ds <- file.path(project_input, input_file)\n",
    "ptm_sig_db <- get_ptm_sig_db(id_type_out, organism)"
   ]
  },
  {
   "cell_type": "code",
   "execution_count": null,
   "metadata": {},
   "outputs": [],
   "source": [
    "preprocess_gct()"
   ]
  },
  {
   "cell_type": "code",
   "execution_count": null,
   "metadata": {},
   "outputs": [],
   "source": [
    "run_ptm_sea()"
   ]
  },
  {
   "cell_type": "code",
   "execution_count": null,
   "metadata": {},
   "outputs": [],
   "source": [
    "# top 10 sign sites"
   ]
  },
  {
   "cell_type": "markdown",
   "metadata": {},
   "source": [
    "### Save results to bucket and access results"
   ]
  },
  {
   "cell_type": "markdown",
   "metadata": {},
   "source": [
    "1. Zip and save results to bucket (permanent storage)"
   ]
  },
  {
   "cell_type": "code",
   "execution_count": null,
   "metadata": {},
   "outputs": [],
   "source": [
    "save_results_to_bucket()"
   ]
  },
  {
   "cell_type": "markdown",
   "metadata": {},
   "source": [
    "2. Download results to local computer\n",
    "\n",
    "Open your workspace in a new tab or window. Navigate to DATA tab -> Files tab, click on the <PROJECT_NAME>.zip file to download the zip folder with all PTM-SEA outputs."
   ]
  }
 ],
 "metadata": {
  "kernelspec": {
   "display_name": "R",
   "language": "R",
   "name": "ir"
  },
  "language_info": {
   "codemirror_mode": "r",
   "file_extension": ".r",
   "mimetype": "text/x-r-source",
   "name": "R",
   "pygments_lexer": "r",
   "version": "4.1.0"
  },
  "toc": {
   "base_numbering": 1,
   "nav_menu": {},
   "number_sections": true,
   "sideBar": true,
   "skip_h1_title": true,
   "title_cell": "Table of Contents",
   "title_sidebar": "Contents",
   "toc_cell": false,
   "toc_position": {},
   "toc_section_display": true,
   "toc_window_display": false
  }
 },
 "nbformat": 4,
 "nbformat_minor": 2
}
