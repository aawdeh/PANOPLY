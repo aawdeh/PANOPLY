{
 "cells": [
  {
   "attachments": {},
   "cell_type": "markdown",
   "metadata": {},
   "source": [
    "<title/>Template notebook for site-centric PTM Signature Enrichment Analysis (PTM-SEA)"
   ]
  },
  {
   "attachments": {},
   "cell_type": "markdown",
   "metadata": {},
   "source": [
    "# Template notebook for running site-centric PTM signature enrichment analysis (PTM-SEA)"
   ]
  },
  {
   "attachments": {},
   "cell_type": "markdown",
   "metadata": {},
   "source": [
    "## Configure environment and prepare files"
   ]
  },
  {
   "attachments": {},
   "cell_type": "markdown",
   "metadata": {},
   "source": [
    "### Configure cloud environment\n",
    "<div class=\"alert alert-block alert-info\">\n",
    "\n",
    "To start this notebook, click on \"Cloud Environment\" in the top-right corner. For **Application configuration** select \"Custom Environment\" and for **Container image** type in **gcr.io/broadcptac/ptm-sea:0.5.2**. This is a Terra-based Docker environment that has the required libraries and scripts to run PTM-SEA. Depending on how big the dataset is, select a suitable number of CPUs and Memory in the same tab.\n",
    " \n",
    "To run a code block, click on it, and either choose **Cell -> Run Cells** or hit **Shift-ENTER**. Running the entire notebook is not recommended since many code blocks require user input. Carefully read each section, and then run the associated code block.\n",
    "</div>"
   ]
  },
  {
   "attachments": {},
   "cell_type": "markdown",
   "metadata": {},
   "source": [
    "### Configure working directories"
   ]
  },
  {
   "attachments": {},
   "cell_type": "markdown",
   "metadata": {},
   "source": [
    "Load in helper functions to run PTM-SEA. The `init_project_dir()` function creates a directory for input and output files, the default name indicates runtime in the YYYYMMDD-HHMMSS format. If you wish to name the directory differently, you can specify the `name` argument as such: `init_project_dir(name = \"my_project\")`."
   ]
  },
  {
   "cell_type": "code",
   "execution_count": null,
   "metadata": {
    "code_folding": [],
    "vscode": {
     "languageId": "r"
    }
   },
   "outputs": [],
   "source": [
    "source(\"/ptm-sea/src/terra-functions.R\")\n",
    "init_project_dir()"
   ]
  },
  {
   "attachments": {},
   "cell_type": "markdown",
   "metadata": {},
   "source": [
    "### Upload files"
   ]
  },
  {
   "attachments": {},
   "cell_type": "markdown",
   "metadata": {},
   "source": [
    "1. Upload the input file to bucket and locate it\n",
    "\n",
    "Open your workspace in a new tab or window. Upload files into your workspace by navigating to DATA tab -> Files tab, and then using the + button on the bottom right of your page. A single file is required: single-site PTM proteome [GCT v1.3+]. Next, list all files in the bucket and find the one you uploaded:"
   ]
  },
  {
   "cell_type": "code",
   "execution_count": null,
   "metadata": {
    "vscode": {
     "languageId": "r"
    }
   },
   "outputs": [],
   "source": [
    "list_files_in_bucket(only_gct = TRUE)"
   ]
  },
  {
   "attachments": {},
   "cell_type": "markdown",
   "metadata": {},
   "source": [
    "2. Select the file name to copy over to environment"
   ]
  },
  {
   "cell_type": "code",
   "execution_count": null,
   "metadata": {
    "vscode": {
     "languageId": "r"
    }
   },
   "outputs": [],
   "source": [
    "### EDIT THIS CELL (1/2)\n",
    "input_file <- ..."
   ]
  },
  {
   "cell_type": "code",
   "execution_count": null,
   "metadata": {
    "vscode": {
     "languageId": "r"
    }
   },
   "outputs": [],
   "source": [
    "copy_from_bucket_to_project_dir(input_file) "
   ]
  },
  {
   "attachments": {},
   "cell_type": "markdown",
   "metadata": {},
   "source": [
    "## Single-site centric PTM-SEA"
   ]
  },
  {
   "attachments": {},
   "cell_type": "markdown",
   "metadata": {},
   "source": [
    "### Set parameters"
   ]
  },
  {
   "attachments": {},
   "cell_type": "markdown",
   "metadata": {},
   "source": [
    "1. Basic parameters for pre-processing PTM GCT:\n",
    "- `id_type_out` - type of site annotation to process input GCT file into\n",
    "    - by default, seqwin with flanking sequences is used (7 AA before and after the site)\n",
    "   \n",
    "    - if the column with flanking sequences is missing, select the format that matches the row IDs\n",
    "- `seqwin_col` - name of the column containing the site annotation\n",
    "    - this is only relevant if id_type_out is seqwin\n",
    "- `organism` - organism from which the dataset is derived\n",
    "- `mode` - determines how multiple sites per gene will be combined"
   ]
  },
  {
   "cell_type": "code",
   "execution_count": null,
   "metadata": {
    "vscode": {
     "languageId": "r"
    }
   },
   "outputs": [],
   "source": [
    "### EDIT THIS CELL (2/2)\n",
    "id_type_out       <- \"seqwin\"        # options: \"uniprot\", \"refseq\", \"seqwin\", \"psp\"\n",
    "organism          <- \"human\"         # options: \"human\", \"mouse\", \"rat\"\n",
    "mode              <- \"median\"        # options:\n",
    "                                         # \"sd\" - most variable (standard deviation) across sample columns;\n",
    "                                         # \"SGT\" - subgroup top: first subgroup in protein group (Spectrum Mill)\n",
    "                                         # \"abs.max\" - for log-transformed, signed p-values.\n",
    "                                         # \"median\" - default option"
   ]
  },
  {
   "attachments": {},
   "cell_type": "markdown",
   "metadata": {},
   "source": [
    "2. Advanced parameters for pre-processing PTM GCT"
   ]
  },
  {
   "cell_type": "code",
   "execution_count": null,
   "metadata": {
    "vscode": {
     "languageId": "r"
    }
   },
   "outputs": [],
   "source": [
    "seqwin_col        <- \"VMsiteFlanks\"  # only relevant if the annotation is \"seqwin\", default: \"VMsiteFlanks\"\n",
    "gene_symbol_col   <- \"geneSymbol\"    # default: \"geneSymbol\"\n",
    "humanize_gene     <- FALSE      # if TRUE, gene symbols will be capitalized (for e.g. mouse or rat).\n",
    "\n",
    "id_type           <- \"sm\"       # Notation of site-ids: 'sm' - Spectrum Mill; 'wg' - Web Gestalt; 'ph' - Philosopher\n",
    "acc_type_in       <- \"refseq\"   # Type of accession number in 'rid' object in GCT file (uniprot, refseq, symbol).\n",
    "residue           <- \"S|T|Y\"  # Modified residues, e.g. \"S|T|Y\" or \"K\".\n",
    "ptm               <- \"p\"        # Type of modification, e.g \"p\", \"ac\", \"ub\", \"gl\"\n",
    "localized         <- TRUE       # CAUTION: it is NOT RECOMMENDED to set this flag to FALSE. If TRUE only fully localized sites will be considered."
   ]
  },
  {
   "attachments": {},
   "cell_type": "markdown",
   "metadata": {},
   "source": [
    "3. Advanced parameters for running PTM-SEA"
   ]
  },
  {
   "cell_type": "code",
   "execution_count": null,
   "metadata": {
    "vscode": {
     "languageId": "r"
    }
   },
   "outputs": [],
   "source": [
    "list_files_in_bucket(only_gmt = TRUE)   # to use custom signatures, upload in DATA tab, they will show up here"
   ]
  },
  {
   "cell_type": "code",
   "execution_count": null,
   "metadata": {
    "vscode": {
     "languageId": "r"
    }
   },
   "outputs": [],
   "source": [
    "ptm_sig_db_path   <- NULL               # copy path to .gmt file from above (`NULL` means use v2.0.0)\n",
    "\n",
    "output_prefix     <- \"ptm-sea-results\"  # Label for output files from PTM-SEA\n",
    "sample_norm_type  <- \"rank\"             # options: \"rank\", \"log\", \"log.rank\", \"none\"\n",
    "weight            <- 0.75               # When weight=0, all genes have the same weight; if weight>0 actual values matter and can change the resulting score (default: 0.75).\n",
    "correl_type       <- \"z.score\"          # options: \"rank\", \"z.score\", \"symm.rank\"\n",
    "statistic         <- \"area.under.RES\"   # options: \"area.under.RES\", \"Kolmogorov-Smirnov\"\n",
    "output_score_type <- \"NES\"              # Score type: \"ES\" - enrichment score,  \"NES\" - normalized ES\n",
    "nperm             <- 1000               # Number of permutations\n",
    "min_overlap       <- 5                  # Minimal overlap between signature and data set.\n",
    "extended_output   <- TRUE               # If TRUE additional stats on signature coverage etc. will be included as row annotations in the GCT results files.\n",
    "export_signal_gct <- TRUE               # For each signature export expression GCT files.\n",
    "global_fdr        <- FALSE              # If TRUE global FDR across all data columns is calculated."
   ]
  },
  {
   "attachments": {},
   "cell_type": "markdown",
   "metadata": {},
   "source": [
    "### Run PTM-SEA"
   ]
  },
  {
   "cell_type": "code",
   "execution_count": null,
   "metadata": {
    "vscode": {
     "languageId": "r"
    }
   },
   "outputs": [],
   "source": [
    "input_ds <- file.path(project_input, basename(input_file))\n",
    "ptm_sig_db <- get_ptm_sig_db(id_type_out, organism)"
   ]
  },
  {
   "attachments": {},
   "cell_type": "markdown",
   "metadata": {},
   "source": [
    "1. Pre-process GCT file into the right format for PTM-SEA."
   ]
  },
  {
   "cell_type": "code",
   "execution_count": null,
   "metadata": {
    "vscode": {
     "languageId": "r"
    }
   },
   "outputs": [],
   "source": [
    "preprocess_gct()"
   ]
  },
  {
   "attachments": {},
   "cell_type": "markdown",
   "metadata": {},
   "source": [
    "2. Run PTM-SEA. This will automatically save results to the bucket and output the name of the zip containing the outputs. If you wish to change the name of the output zip, you can specify the argument `name`."
   ]
  },
  {
   "cell_type": "code",
   "execution_count": null,
   "metadata": {
    "vscode": {
     "languageId": "r"
    }
   },
   "outputs": [],
   "source": [
    "run_ptm_sea()"
   ]
  },
  {
   "attachments": {},
   "cell_type": "markdown",
   "metadata": {},
   "source": [
    "3. If run successfully, your outputs will be saved in the bucket under default name of format `<workspace>_<runtime>.zip`. Open your workspace in a new tab or window. Navigate to DATA tab -> Files tab, select the zip output to download the folder with PTM-SEA outputs."
   ]
  }
 ],
 "metadata": {
  "kernelspec": {
   "display_name": "R",
   "language": "R",
   "name": "ir"
  },
  "language_info": {
   "codemirror_mode": "r",
   "file_extension": ".r",
   "mimetype": "text/x-r-source",
   "name": "R",
   "pygments_lexer": "r",
   "version": "4.2.1"
  },
  "toc": {
   "base_numbering": 1,
   "nav_menu": {},
   "number_sections": true,
   "sideBar": true,
   "skip_h1_title": true,
   "title_cell": "Table of Contents",
   "title_sidebar": "Contents",
   "toc_cell": false,
   "toc_position": {},
   "toc_section_display": true,
   "toc_window_display": false
  }
 },
 "nbformat": 4,
 "nbformat_minor": 2
}
